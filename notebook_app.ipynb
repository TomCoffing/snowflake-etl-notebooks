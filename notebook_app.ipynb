{
 "metadata": {
  "kernelspec": {
   "display_name": "Python 3",
   "language": "python",
   "name": "python3"
  },
  "language_info": {
   "codemirror_mode": {
    "name": "ipython",
    "version": 3
   },
   "file_extension": ".py",
   "mimetype": "text/x-python",
   "name": "python",
   "nbconvert_exporter": "python",
   "pygments_lexer": "ipython3",
   "version": "3.8.5"
  },
  "lastEditStatus": {
   "notebookId": "oquyn2drcl7wqckklrp6",
   "authorId": "1523719897998",
   "authorName": "SANDAJ",
   "authorEmail": "raju.sandajaar@coffingdw.com",
   "sessionId": "29c738b2-d416-4b3e-9405-f2730e9a0565",
   "lastEditTime": 1743864122008
  }
 },
 "nbformat_minor": 4,
 "nbformat": 4,
 "cells": [
  {
   "cell_type": "code",
   "execution_count": null,
   "metadata": {
    "name": "cell1",
    "language": "python"
   },
   "outputs": [],
   "source": "# This is a sample notebook\nprint('Hello, Snowflake!')\nprint('Hello, Tom!')",
   "id": "ce110000-1111-2222-3333-ffffff000000"
  }
 ]
}