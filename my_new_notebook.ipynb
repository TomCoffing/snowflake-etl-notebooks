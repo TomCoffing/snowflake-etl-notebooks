     {
       "cells": [],
       "metadata": {
         "kernelspec": {
           "name": "python3",
           "display_name": "Python 3"
         },
         "language_info": {
           "name": "python",
           "version": "3.8.5"
         }
       },
       "nbformat": 4,
       "nbformat_minor": 4
     }
     
